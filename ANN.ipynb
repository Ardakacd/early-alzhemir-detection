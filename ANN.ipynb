{
 "cells": [
  {
   "cell_type": "markdown",
   "id": "f7e71d81",
   "metadata": {},
   "source": [
    "### Preparing the Dataset\n",
    "In this block we've pre-processed the provided dataset according to our needs. \n",
    "* We've applied feature selection and normalization on dataset.\n",
    "* Dataset is splitted into training and test set"
   ]
  },
  {
   "cell_type": "code",
   "execution_count": null,
   "id": "6ec3acf5-3e05-4593-afcb-fede90c29505",
   "metadata": {},
   "outputs": [],
   "source": [
    "import numpy as np\n",
    "import pandas as pd\n",
    "from sklearn.preprocessing import OneHotEncoder\n",
    "from sklearn.model_selection import train_test_split\n",
    "\n",
    "\n",
    "data = pd.read_csv(\"ObesityDataSet_raw_and_data_sinthetic.csv\")\n",
    "\n",
    "deleted_columns = ['CAEC','SMOKE','CH2O','TUE','CALC','SCC']\n",
    "\n",
    "data = data.drop(deleted_columns, axis=1)\n",
    "\n",
    "columns_to_encode = ['Gender', 'family_history_with_overweight', 'FAVC', 'MTRANS']\n",
    "\n",
    "# Select the columns to encode\n",
    "df_to_encode = data[columns_to_encode]\n",
    "\n",
    "other_columns = data.drop(columns_to_encode, axis=1)\n",
    "\n",
    "# Initialize OneHotEncoder\n",
    "encoder = OneHotEncoder()\n",
    "\n",
    "# Fit and transform the encoded DataFrame\n",
    "encoded_array = encoder.fit_transform(df_to_encode)\n",
    "\n",
    "# Convert the encoded array back to a DataFrame\n",
    "df_encoded_onehot = pd.DataFrame(encoded_array.toarray(), columns=encoder.get_feature_names_out(df_to_encode.columns))\n",
    "\n",
    "df_final = pd.concat([other_columns, df_encoded_onehot], axis=1)\n",
    "\n",
    "column_to_move = df_final.pop('NObeyesdad')\n",
    "\n",
    "# Reinsert the column at the end\n",
    "df_final['NObeyesdad'] = column_to_move\n",
    "\n",
    "# Custom mapping for target class (obesity level)\n",
    "feature_mapping = {\n",
    "    'Insufficient_Weight': 0,\n",
    "    'Normal_Weight': 1,\n",
    "    'Overweight_Level_I': 2,\n",
    "    'Overweight_Level_II': 3,\n",
    "    'Obesity_Type_I': 4,\n",
    "    'Obesity_Type_II': 5,\n",
    "    'Obesity_Type_III': 6,\n",
    "}\n",
    "\n",
    "df_final['NObeyesdad'] = df_final['NObeyesdad'].map(feature_mapping)\n",
    "\n",
    "X = df_final.drop('NObeyesdad', axis=1)     # Features\n",
    "y = df_final['NObeyesdad']                  # Target variable\n",
    "\n",
    "# split data into training and test set\n",
    "X_train, X_test, y_train, y_test = train_test_split(X, y, test_size=0.2, random_state=462)\n",
    "\n",
    "# min-max normalization\n",
    "min_vals = X_train.min()\n",
    "max_vals = X_train.max()\n",
    "\n",
    "column_to_be_normalized = ['Age','Height','Weight','FCVC','NCP','FAF']\n",
    "\n",
    "for col in X_train:\n",
    "    X_test[col] = (X_test[col] - min_vals[col]) / (max_vals[col] - min_vals[col])\n",
    "    X_train[col] = (X_train[col] - min_vals[col]) / (max_vals[col] - min_vals[col])"
   ]
  },
  {
   "cell_type": "markdown",
   "id": "925fab89",
   "metadata": {},
   "source": [
    "### Definition of Neural Network Model\n",
    "We've defined our NN model and relevant learning and optimization parameters\n",
    "* Data conversion to tensors (basically to make PyTorch to make use of them)\n",
    "* Defined layer sizes and activation function being used in forward prop\n",
    "* Defined the loss function and optimizer"
   ]
  },
  {
   "cell_type": "code",
   "execution_count": null,
   "id": "aaceda59-7521-4a8c-9605-81201d4ba277",
   "metadata": {},
   "outputs": [],
   "source": [
    "import torch\n",
    "import torch.nn as nn\n",
    "import torch.optim as optim\n",
    "from torch.utils.data import DataLoader, TensorDataset\n",
    "\n",
    "# converting training and test values into tensors\n",
    "X_train_tensor = torch.tensor(X_train.values.astype(np.float32))\n",
    "X_test_tensor = torch.tensor(X_test.values.astype(np.float32))\n",
    "y_train_tensor = torch.tensor(y_train.values)\n",
    "y_test_tensor = torch.tensor(y_test.values)\n",
    "\n",
    "train_dataset = TensorDataset(X_train_tensor, y_train_tensor)\n",
    "train_loader = DataLoader(train_dataset, batch_size=64, shuffle=True)\n",
    "\n",
    "class ArtificialNeuralNetwork(nn.Module):                           ## nn.Module is super class of our class\n",
    "    def __init__(self, input_size, hidden_size, output_size):\n",
    "        super(ArtificialNeuralNetwork, self).__init__()\n",
    "        self.layers = nn.ModuleList()\n",
    "        layer_sizes = [input_size] + hidden_sizes + [output_size]\n",
    "        for i in range(len(layer_sizes) - 1):\n",
    "            self.layers.append(nn.Linear(layer_sizes[i], layer_sizes[i + 1]))\n",
    "\n",
    "    def forward(self, x):                           # implementation of forward prop\n",
    "        for layer in self.layers[:-1]:\n",
    "            x = torch.relu(layer(x))\n",
    "        return self.layers[-1](x)       # No activation function applied to the output layer\n",
    "\n",
    "input_size = X_train_tensor.shape[1]\n",
    "hidden_sizes = [64,64,64]               # hidden layer size is hyperparameter\n",
    "output_size = len(y.unique())\n",
    "\n",
    "model = ArtificialNeuralNetwork(input_size, hidden_sizes, output_size)\n",
    "\n",
    "criterion = nn.CrossEntropyLoss()                       # cross entropy value is used as loss function\n",
    "optimizer = optim.Adam(model.parameters(), lr=0.001)    # learning rate is hyperparameter"
   ]
  },
  {
   "cell_type": "markdown",
   "id": "3b773af0",
   "metadata": {},
   "source": [
    "### Training\n",
    "We've trained our model for number of epochs with the predefined (by us) learning rate. Number of epochs can be determined emprically while keeping mind that the convergence time and value of the model also dependent on the learning rate."
   ]
  },
  {
   "cell_type": "code",
   "execution_count": null,
   "id": "e49502bd",
   "metadata": {},
   "outputs": [],
   "source": [
    "num_epochs = 100\n",
    "\n",
    "for epoch in range(num_epochs):\n",
    "    for inputs, labels in train_loader:\n",
    "        optimizer.zero_grad()               # clears the gradients before new back prop (new batch)\n",
    "        outputs = model.forward(inputs)     # feed model with forward prop (get predictions - outputs)\n",
    "        loss = criterion(outputs, labels)   # calculate loss value of predictions\n",
    "        loss.backward()                     # perform back prop to compute gradient w.r.t model params\n",
    "        optimizer.step()                    # update the model params (weights) according to LR and gradient\n",
    "\n",
    "    print(f\"Epoch [{epoch + 1}/{num_epochs}], Loss: {loss.item():.4f}\")"
   ]
  },
  {
   "cell_type": "markdown",
   "id": "10e36d18",
   "metadata": {},
   "source": [
    "### Evaluation of Model on Test Data\n",
    "Trained NN model is tested on test data which is gathered by splitting the dataset. Accuracy result is obtained as the final result."
   ]
  },
  {
   "cell_type": "code",
   "execution_count": null,
   "id": "27cecdf5",
   "metadata": {},
   "outputs": [],
   "source": [
    "# Evaluate the accuracy of the model on the test set\n",
    "with torch.no_grad():\n",
    "    model.eval()\n",
    "    outputs = model.forward(X_test_tensor)\n",
    "    _, predicted = torch.max(outputs, 1)\n",
    "    accuracy = (predicted == y_test_tensor).sum().item() / y_test_tensor.size(0)\n",
    "\n",
    "print(f\"\\nTest Accuracy: {accuracy:.4f}\")"
   ]
  }
 ],
 "metadata": {
  "kernelspec": {
   "display_name": "Python 3 (ipykernel)",
   "language": "python",
   "name": "python3"
  },
  "language_info": {
   "codemirror_mode": {
    "name": "ipython",
    "version": 3
   },
   "file_extension": ".py",
   "mimetype": "text/x-python",
   "name": "python",
   "nbconvert_exporter": "python",
   "pygments_lexer": "ipython3",
   "version": "3.12.1"
  }
 },
 "nbformat": 4,
 "nbformat_minor": 5
}
