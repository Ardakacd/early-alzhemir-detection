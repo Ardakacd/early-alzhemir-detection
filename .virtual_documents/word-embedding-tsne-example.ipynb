import numpy
import torch
from torchtext.vocab import GloVe
from sklearn.manifold import TSNE
import matplotlib.pyplot as plt
import random

# Load pre-trained Word2Vec embeddings(GloVe)
word_embeddings = GloVe(name='6B', dim=300)





vector_apple = word_embeddings["apple"]
vector_fruit = word_embeddings["fruit"]
vector_car = word_embeddings["car"]
#vectors = numpy.array([word_embeddings[word].numpy() for word in alpa_numeric_words])

similarity_score_1 = torch.nn.functional.cosine_similarity(vector_apple, vector_fruit, dim=0)
similarity_score_2 = torch.nn.functional.cosine_similarity(vector_apple, vector_car, dim=0)
similarity_score_3 = torch.nn.functional.cosine_similarity(vector_car, vector_fruit, dim=0)

print(f"Similarity score between 'apple' and 'fruit': {similarity_score_1.item()}")
print(f"Similarity score between 'apple' and 'car': {similarity_score_2.item()}")
print(f"Similarity score between 'car' and 'fruit': {similarity_score_3.item()}")

desired_words = [vector_apple.numpy(),vector_fruit.numpy(),vector_car.numpy()]
vectors = numpy.array(desired_words)

tsne = TSNE(n_components=2, random_state=42, perplexity=2)
vectors_2d = tsne.fit_transform(vectors)

plt.figure(figsize=(12, 8))
plt.scatter(vectors_2d[:, 0], vectors_2d[:, 1], marker='o', color='b')

# Annotate points with words
for i, word in enumerate(["apple","fruit","car"]):
    plt.annotate(word, xy=(vectors_2d[i, 0], vectors_2d[i, 1]), fontsize=15)

plt.title('t-SNE Visualization of GloVe(apple,fruit,car)')
# plt.savefig("images/t-sne_word_embedding.png",dpi=100)
plt.show()






# get 100 random words from the first 1000 words
words = random.sample(list(word_embeddings.stoi.keys())[:1000], 100)
alpa_numeric_words = [word for word in words if word.isalpha()]
vectors = numpy.array([word_embeddings[word].numpy() for word in alpa_numeric_words])

# Use t-SNE for dimensionality reduction
tsne = TSNE(n_components=2, random_state=42)
vectors_2d = tsne.fit_transform(vectors)

# Plot the 2D vectors
plt.figure(figsize=(36, 24))
plt.scatter(vectors_2d[:, 0], vectors_2d[:, 1], marker='o', color='b')

# Annotate points with words
for i, word in enumerate(alpa_numeric_words):
    plt.annotate(word, xy=(vectors_2d[i, 0], vectors_2d[i, 1]), fontsize=15)

plt.title('t-SNE Visualization of GloVe Word Vectors')
# plt.savefig("images/t-sne_word_embedding.png",dpi=100)
plt.show()
